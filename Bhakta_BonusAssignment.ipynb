{
  "nbformat": 4,
  "nbformat_minor": 0,
  "metadata": {
    "colab": {
      "name": "Bhakta_BonusAssignment",
      "provenance": []
    },
    "kernelspec": {
      "name": "python3",
      "display_name": "Python 3"
    },
    "language_info": {
      "name": "python"
    }
  },
  "cells": [
    {
      "cell_type": "code",
      "execution_count": 17,
      "metadata": {
        "colab": {
          "base_uri": "https://localhost:8080/"
        },
        "id": "d-hjYDg8abkw",
        "outputId": "669aa8c7-9e37-4b59-96ba-76cad94ccce6"
      },
      "outputs": [
        {
          "output_type": "stream",
          "name": "stdout",
          "text": [
            "DAFT is at row 1 and column 1 going downwards.\n",
            "STUK is at row 2 and column 4 going downwards.\n",
            "JUN is at row 3 and column 5 going downwards and left diagonally.\n",
            "FBN is at row 3 and column 1 going downwards and right diagonally.\n",
            "CUP is at row 4 and column 3 going right.\n",
            "BOT is at row 3 and column 2 going right.\n",
            "PUNK is at row 5 and column 1 going right.\n",
            "COKE is at row 4 and column 3 going upwards.\n",
            "SUOB is at row 5 and column 5 going upwards and left diagonally.\n",
            "NUJ is at row 5 and column 3 going upwards and right diagonally.\n",
            "\n",
            "Other words did not match the criteria.\n"
          ]
        }
      ],
      "source": [
        "# given grid in the question\n",
        "grid ='''D B E P J\n",
        "A B K S J\n",
        "F B O T J\n",
        "T B C U P\n",
        "P U N K S\n",
        "'''\n",
        "# given words list in the question\n",
        "words = ['CUP', 'PUP', 'BOT', 'JJJPT', 'COKE', 'FBN','DAFT', 'PUNK', 'SPUNK', 'STUK', 'JUN','NUJ','SUOB']\n",
        "\n",
        "# Fixing all the rows\n",
        "wordgrid = grid.replace(' ','')\n",
        "\n",
        "# Sarting count as 1 instead of 0 for indexing\n",
        "length = wordgrid.index('\\n')+1\n",
        "\n",
        "\n",
        "characters = [(letter, divmod(index, length))\n",
        "            for  index, letter in enumerate (wordgrid)]\n",
        "\n",
        "wordlines = {}\n",
        "# creating a dictionary for directions\n",
        "directions = {'going downwards':0, \n",
        "              'going downwards and left diagonally':-1, \n",
        "              'going downwards and right diagonally':1}\n",
        "              \n",
        "for word_direction, directions in directions.items():\n",
        "    wordlines[word_direction] = []\n",
        "    for x in range(length):\n",
        "        for i in range(x, len(characters), length + directions):\n",
        "            wordlines[word_direction].append(characters[i])\n",
        "        wordlines[word_direction].append('\\n')\n",
        "\n",
        "# Reversed direction check\n",
        "wordlines['going right'] = characters\n",
        "wordlines['going left'] = [i for i in reversed(characters)]\n",
        "wordlines['going upwards'] = [i for i in reversed(wordlines['going downwards'])]\n",
        "wordlines['going upwards and left diagonally'] = [i for i in reversed(wordlines['going downwards and right diagonally'])]\n",
        "wordlines['going upwards and right diagonally'] = [i for i in reversed(wordlines['going downwards and left diagonally'])]\n",
        "\n",
        "\n",
        "def printTrueWords(direction, tuple, lines):\n",
        "    for direction, tuple in lines.items():\n",
        "        string = ''.join([i[0] for i in tuple])\n",
        "        for word in words:\n",
        "            if word in string:\n",
        "                coordinates = tuple[string.index(word)][1]\n",
        "                print(word, 'is at row', coordinates[0]+1, 'and column', coordinates[1]+1, direction + \".\")\n",
        "\n",
        "printTrueWords(word_direction, tuple, wordlines)\n",
        "print(\"\\nOther words did not match the criteria.\")"
      ]
    }
  ]
}
